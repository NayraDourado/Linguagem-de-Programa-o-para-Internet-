{
  "cells": [
    {
      "cell_type": "markdown",
      "metadata": {
        "id": "view-in-github",
        "colab_type": "text"
      },
      "source": [
        "<a href=\"https://colab.research.google.com/github/naydourado/Linguagem-de-Programa-o-para-Internet-/blob/main/trabalho_1%C2%B0S.ipynb\" target=\"_parent\"><img src=\"https://colab.research.google.com/assets/colab-badge.svg\" alt=\"Open In Colab\"/></a>"
      ]
    },
    {
      "cell_type": "code",
      "execution_count": null,
      "metadata": {
        "id": "2MMwlOhWee8S"
      },
      "outputs": [],
      "source": [
        "import pandas as pd\n",
        "from datetime import datetime\n",
        "from google.colab import files\n",
        "\n",
        "def nova_admissao():\n",
        "    return []\n",
        "\n",
        "def adicionar_colaborador(admissao, nome, telefone, cpf, sexo, nascimento, cargo, setor):\n",
        "    colaborador = {\"nome\": nome, \"telefone\": telefone, \"cpf\": cpf, \"sexo\": sexo, \"nascimento\": nascimento, \"cargo\": cargo, \"setor\": setor}\n",
        "    admissao.append(colaborador)\n",
        "    atualizar_planilha(admissao)\n",
        "\n",
        "def atualizar_planilha(admissao):\n",
        "    df = pd.DataFrame(admissao)\n",
        "    df.to_excel(\"colaboradores.xlsx\", index=False)\n",
        "\n",
        "def calcular_idade(nascimento):\n",
        "              nascimento = datetime.strptime(nascimento, '%d/%m/%Y')\n",
        "              ano_atual = datetime.now().year\n",
        "              idade = ano_atual - nascimento.year\n",
        "              return idade\n",
        "\n",
        "def listar_colaboradores(admissao):\n",
        "    if not admissao:\n",
        "        print(\"Não há colaboradores cadastrados.\")\n",
        "    else:\n",
        "        print(\"Lista de colaboradores:\")\n",
        "        for i, colaborador in enumerate(admissao, start=1):\n",
        "            print(f\"{i} - Nome: {colaborador['nome']}, Telefone: {colaborador['telefone']}, CPF: {colaborador['cpf']}, Sexo: {colaborador['sexo']}, Nascimento: {colaborador['nascimento']}, Idade: {calcular_idade(colaborador['nascimento'])}, Cargo: {colaborador['cargo']}, Setor: {colaborador['setor']}\")"
      ]
    },
    {
      "cell_type": "code",
      "execution_count": null,
      "metadata": {
        "colab": {
          "base_uri": "https://localhost:8080/",
          "height": 315
        },
        "id": "WC3kHWjdpOGC",
        "outputId": "d3dc485d-dc1b-4593-bbcd-8d26fe93c327"
      },
      "outputs": [
        {
          "output_type": "stream",
          "name": "stdout",
          "text": [
            "Bem-vindo ao domínio de cadastro de novos colaboradores!\n"
          ]
        },
        {
          "output_type": "error",
          "ename": "NameError",
          "evalue": "name 'nova_admissao' is not defined",
          "traceback": [
            "\u001b[0;31m---------------------------------------------------------------------------\u001b[0m",
            "\u001b[0;31mNameError\u001b[0m                                 Traceback (most recent call last)",
            "\u001b[0;32m<ipython-input-1-709aae0f7d39>\u001b[0m in \u001b[0;36m<cell line: 36>\u001b[0;34m()\u001b[0m\n\u001b[1;32m     35\u001b[0m \u001b[0;34m\u001b[0m\u001b[0m\n\u001b[1;32m     36\u001b[0m \u001b[0;32mif\u001b[0m \u001b[0m__name__\u001b[0m \u001b[0;34m==\u001b[0m \u001b[0;34m\"__main__\"\u001b[0m\u001b[0;34m:\u001b[0m\u001b[0;34m\u001b[0m\u001b[0;34m\u001b[0m\u001b[0m\n\u001b[0;32m---> 37\u001b[0;31m     \u001b[0mmain\u001b[0m\u001b[0;34m(\u001b[0m\u001b[0;34m)\u001b[0m\u001b[0;34m\u001b[0m\u001b[0;34m\u001b[0m\u001b[0m\n\u001b[0m",
            "\u001b[0;32m<ipython-input-1-709aae0f7d39>\u001b[0m in \u001b[0;36mmain\u001b[0;34m()\u001b[0m\n\u001b[1;32m      1\u001b[0m \u001b[0mprint\u001b[0m\u001b[0;34m(\u001b[0m\u001b[0;34m\"Bem-vindo ao domínio de cadastro de novos colaboradores!\"\u001b[0m\u001b[0;34m)\u001b[0m\u001b[0;34m\u001b[0m\u001b[0;34m\u001b[0m\u001b[0m\n\u001b[1;32m      2\u001b[0m \u001b[0;32mdef\u001b[0m \u001b[0mmain\u001b[0m\u001b[0;34m(\u001b[0m\u001b[0;34m)\u001b[0m\u001b[0;34m:\u001b[0m\u001b[0;34m\u001b[0m\u001b[0;34m\u001b[0m\u001b[0m\n\u001b[0;32m----> 3\u001b[0;31m     \u001b[0madmissao\u001b[0m \u001b[0;34m=\u001b[0m \u001b[0mnova_admissao\u001b[0m\u001b[0;34m(\u001b[0m\u001b[0;34m)\u001b[0m\u001b[0;34m\u001b[0m\u001b[0;34m\u001b[0m\u001b[0m\n\u001b[0m\u001b[1;32m      4\u001b[0m \u001b[0;34m\u001b[0m\u001b[0m\n\u001b[1;32m      5\u001b[0m     \u001b[0;32mwhile\u001b[0m \u001b[0;32mTrue\u001b[0m\u001b[0;34m:\u001b[0m\u001b[0;34m\u001b[0m\u001b[0;34m\u001b[0m\u001b[0m\n",
            "\u001b[0;31mNameError\u001b[0m: name 'nova_admissao' is not defined"
          ]
        }
      ],
      "source": [
        "print(\"Bem-vindo ao domínio de cadastro de novos colaboradores!\")\n",
        "def main():\n",
        "    admissao = nova_admissao()\n",
        "\n",
        "    while True:\n",
        "        print(\"\\nEscolha uma das opções abaixo:\")\n",
        "        print(\"1 - Adicionar colaborador\")\n",
        "        print(\"2 - Listar colaboradores\")\n",
        "        print(\"3 - Sair\")\n",
        "\n",
        "        escolha = input(\"Escolha uma opção: \")\n",
        "\n",
        "        if escolha == \"1\":\n",
        "            nome = input(\"Digite o nome do colaborador: \")\n",
        "            telefone = input(\"Digite o telefone do colaborador: \")\n",
        "            cpf = input(\"Digite o cpf do colaborador: \")\n",
        "            sexo = input(\"Digite o sexo do colaborador (Feminino, Masculino ou Prefiro Não Informar): \")\n",
        "            nascimento = input(\"Digite a data de nascimento do colaborador: \")\n",
        "            cargo = input(\"Digite o cargo do colaborador: \")\n",
        "            setor = input(\"Digite o setor do colaborador: \")\n",
        "            adicionar_colaborador(admissao, nome, telefone, cpf, sexo, nascimento, cargo, setor)\n",
        "            print(\"Colaborador adicionado com sucesso!\")\n",
        "\n",
        "        elif escolha == \"2\":\n",
        "            listar_colaboradores(admissao)\n",
        "\n",
        "        elif escolha == \"3\":\n",
        "            print(\"Saindo da lista.\")\n",
        "            break\n",
        "\n",
        "        else:\n",
        "            print(\"Opção inválida. Escolha novamente.\")\n",
        "\n",
        "    files.download(\"colaboradores.xlsx\")\n",
        "\n",
        "if __name__ == \"__main__\":\n",
        "    main()"
      ]
    }
  ],
  "metadata": {
    "colab": {
      "provenance": [],
      "include_colab_link": true
    },
    "kernelspec": {
      "display_name": "Python 3",
      "name": "python3"
    },
    "language_info": {
      "name": "python"
    }
  },
  "nbformat": 4,
  "nbformat_minor": 0
}